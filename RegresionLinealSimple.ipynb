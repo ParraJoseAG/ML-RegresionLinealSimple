{
 "cells": [
  {
   "cell_type": "markdown",
   "id": "4fa88942",
   "metadata": {},
   "source": [
    "**APRENDIZAJE SUPERVISADO**\n",
    "\n",
    "**REGRESIÓN LINEAL SIMPLE**"
   ]
  },
  {
   "cell_type": "code",
   "execution_count": 4,
   "id": "022ed3ae",
   "metadata": {},
   "outputs": [],
   "source": [
    "# Tratamiento de datos\n",
    "# ==============================================================================\n",
    "import pandas as pd\n",
    "import numpy as np\n",
    "\n",
    "# Gráficos\n",
    "# ==============================================================================\n",
    "import matplotlib.pyplot as plt\n",
    "from matplotlib import style\n",
    "import seaborn as sns\n",
    "\n",
    "# Preprocesado y modelado\n",
    "# ==============================================================================\n",
    "from scipy.stats import pearsonr\n",
    "from sklearn.linear_model import LinearRegression\n",
    "from sklearn.model_selection import train_test_split\n",
    "from sklearn.metrics import r2_score\n",
    "from sklearn.metrics import mean_squared_error\n",
    "import statsmodels.api as sm\n",
    "import statsmodels.formula.api as smf\n",
    "\n",
    "# Configuración matplotlib\n",
    "# ==============================================================================\n",
    "plt.rcParams['image.cmap'] = \"bwr\"\n",
    "#plt.rcParams['figure.dpi'] = \"100\"\n",
    "plt.rcParams['savefig.bbox'] = \"tight\"\n",
    "style.use('ggplot') or plt.style.use('ggplot')\n",
    "\n",
    "# Configuración warnings\n",
    "# ==============================================================================\n",
    "import warnings\n",
    "warnings.filterwarnings('ignore')"
   ]
  },
  {
   "cell_type": "markdown",
   "id": "281be888",
   "metadata": {},
   "source": [
    "**FASES**"
   ]
  },
  {
   "cell_type": "markdown",
   "id": "7ec3f935",
   "metadata": {},
   "source": [
    "**1. ¿Qué deseamos solucionar?**\n",
    "\n",
    "Predecir el *salario inicial* de un estudiante recién graduado en función de su *calificación promedio*."
   ]
  },
  {
   "cell_type": "markdown",
   "id": "55cdeefe",
   "metadata": {},
   "source": [
    "**2. Recolectar los datos**"
   ]
  },
  {
   "cell_type": "code",
   "execution_count": 5,
   "id": "824982f4",
   "metadata": {},
   "outputs": [
    {
     "data": {
      "text/html": [
       "<div>\n",
       "<style scoped>\n",
       "    .dataframe tbody tr th:only-of-type {\n",
       "        vertical-align: middle;\n",
       "    }\n",
       "\n",
       "    .dataframe tbody tr th {\n",
       "        vertical-align: top;\n",
       "    }\n",
       "\n",
       "    .dataframe thead th {\n",
       "        text-align: right;\n",
       "    }\n",
       "</style>\n",
       "<table border=\"1\" class=\"dataframe\">\n",
       "  <thead>\n",
       "    <tr style=\"text-align: right;\">\n",
       "      <th></th>\n",
       "      <th>CALIFICACIÓN PROMEDIO</th>\n",
       "      <th>SALARIO INICIAL</th>\n",
       "    </tr>\n",
       "  </thead>\n",
       "  <tbody>\n",
       "    <tr>\n",
       "      <th>0</th>\n",
       "      <td>2.95</td>\n",
       "      <td>18.5</td>\n",
       "    </tr>\n",
       "    <tr>\n",
       "      <th>1</th>\n",
       "      <td>3.20</td>\n",
       "      <td>20.0</td>\n",
       "    </tr>\n",
       "    <tr>\n",
       "      <th>2</th>\n",
       "      <td>3.40</td>\n",
       "      <td>21.1</td>\n",
       "    </tr>\n",
       "    <tr>\n",
       "      <th>3</th>\n",
       "      <td>3.60</td>\n",
       "      <td>22.4</td>\n",
       "    </tr>\n",
       "    <tr>\n",
       "      <th>4</th>\n",
       "      <td>3.20</td>\n",
       "      <td>21.2</td>\n",
       "    </tr>\n",
       "    <tr>\n",
       "      <th>5</th>\n",
       "      <td>2.85</td>\n",
       "      <td>15.0</td>\n",
       "    </tr>\n",
       "    <tr>\n",
       "      <th>6</th>\n",
       "      <td>3.10</td>\n",
       "      <td>18.0</td>\n",
       "    </tr>\n",
       "    <tr>\n",
       "      <th>7</th>\n",
       "      <td>2.85</td>\n",
       "      <td>18.8</td>\n",
       "    </tr>\n",
       "    <tr>\n",
       "      <th>8</th>\n",
       "      <td>3.05</td>\n",
       "      <td>15.7</td>\n",
       "    </tr>\n",
       "    <tr>\n",
       "      <th>9</th>\n",
       "      <td>2.70</td>\n",
       "      <td>14.4</td>\n",
       "    </tr>\n",
       "    <tr>\n",
       "      <th>10</th>\n",
       "      <td>2.75</td>\n",
       "      <td>15.5</td>\n",
       "    </tr>\n",
       "    <tr>\n",
       "      <th>11</th>\n",
       "      <td>3.10</td>\n",
       "      <td>17.2</td>\n",
       "    </tr>\n",
       "    <tr>\n",
       "      <th>12</th>\n",
       "      <td>3.15</td>\n",
       "      <td>19.0</td>\n",
       "    </tr>\n",
       "    <tr>\n",
       "      <th>13</th>\n",
       "      <td>2.95</td>\n",
       "      <td>17.2</td>\n",
       "    </tr>\n",
       "    <tr>\n",
       "      <th>14</th>\n",
       "      <td>2.75</td>\n",
       "      <td>16.8</td>\n",
       "    </tr>\n",
       "  </tbody>\n",
       "</table>\n",
       "</div>"
      ],
      "text/plain": [
       "    CALIFICACIÓN PROMEDIO  SALARIO INICIAL\n",
       "0                    2.95             18.5\n",
       "1                    3.20             20.0\n",
       "2                    3.40             21.1\n",
       "3                    3.60             22.4\n",
       "4                    3.20             21.2\n",
       "5                    2.85             15.0\n",
       "6                    3.10             18.0\n",
       "7                    2.85             18.8\n",
       "8                    3.05             15.7\n",
       "9                    2.70             14.4\n",
       "10                   2.75             15.5\n",
       "11                   3.10             17.2\n",
       "12                   3.15             19.0\n",
       "13                   2.95             17.2\n",
       "14                   2.75             16.8"
      ]
     },
     "execution_count": 5,
     "metadata": {},
     "output_type": "execute_result"
    }
   ],
   "source": [
    "# Datos\n",
    "# ==============================================================================\n",
    "datos = pd.read_csv(\"ejemplo.csv\")\n",
    "datos"
   ]
  },
  {
   "cell_type": "markdown",
   "id": "cb7279f4",
   "metadata": {},
   "source": [
    "**3. Entender los datos-Análisis exploratorio de los datos**"
   ]
  },
  {
   "cell_type": "markdown",
   "id": "d2fd1c20",
   "metadata": {},
   "source": [
    "**Representación Gráfica y coeficiente de correlación de Pearson**\n",
    "\n",
    "El primer paso antes de generar un modelo de regresión simple es representar los datos para poder intuir si existe una relación y cuantificar dicha relación mediante un coeficiente de correlación."
   ]
  },
  {
   "cell_type": "code",
   "execution_count": 8,
   "id": "6c02fe1f",
   "metadata": {},
   "outputs": [
    {
     "data": {
      "image/png": "[encoded data removed]",
      "text/plain": [
       "<Figure size 432x288 with 1 Axes>"
      ]
     },
     "metadata": {},
     "output_type": "display_data"
    }
   ],
   "source": [
    "# Gráfico\n",
    "# ==============================================================================\n",
    "fig, ax = plt.subplots()\n",
    "\n",
    "datos.plot(\n",
    "    x    = 'CALIFICACIÓN PROMEDIO',\n",
    "    y    = 'SALARIO INICIAL',\n",
    "    c    = 'firebrick',\n",
    "    kind = \"scatter\",\n",
    "    ax   = ax\n",
    ")\n",
    "ax.set_title('Gráfica de dispersión');"
   ]
  },
  {
   "cell_type": "code",
   "execution_count": 11,
   "id": "8d1d6803",
   "metadata": {},
   "outputs": [
    {
     "name": "stdout",
     "output_type": "stream",
     "text": [
      "Coeficiente de correlación de Pearson:  0.8476342100087885\n",
      "P-value:  6.59819025231516e-05\n"
     ]
    }
   ],
   "source": [
    "# Correlación lineal entre las dos variables\n",
    "# ==============================================================================\n",
    "corr_test = pearsonr(x = datos['CALIFICACIÓN PROMEDIO'], y =  datos['SALARIO INICIAL'])\n",
    "print(\"Coeficiente de correlación de Pearson: \", corr_test[0])\n",
    "print(\"P-value: \", corr_test[1])"
   ]
  },
  {
   "cell_type": "markdown",
   "id": "4bb80332",
   "metadata": {},
   "source": [
    "A pesar de que la gráfica muestra dispersión, se observa una tendencia lineal del salario inicial en función de la calificación promedio; Además, el coeficiente de correlación de Pearson es $0_{\\cdot}8476$ y el *p-value* es significativo para rechazar la hipótesis $H_0: \\rho = 0$. Por lo tanto, se supondrá un modelo lineal de la forma:\n",
    "\n",
    "$$\n",
    "Y = \\beta_0 + \\beta_1 x + \\varepsilon\n",
    "$$\n",
    "\n",
    "donde:\n",
    "   * Y: es la variable aleatoria respuesta/dependiente (salario inicial).\n",
    "   * x: es la variable predictora/independiente (calificación promedio).\n",
    "   * y $\\varepsilon$ es el error aleatorio no observable."
   ]
  },
  {
   "cell_type": "code",
   "execution_count": null,
   "id": "64a313ae",
   "metadata": {},
   "outputs": [],
   "source": [
    "#"
   ]
  },
  {
   "cell_type": "markdown",
   "id": "f1c4bdd9",
   "metadata": {},
   "source": [
    "**4.Pre-procesar los datos**"
   ]
  },
  {
   "cell_type": "code",
   "execution_count": null,
   "id": "0d357dd2",
   "metadata": {},
   "outputs": [],
   "source": []
  },
  {
   "cell_type": "markdown",
   "id": "313f16f4",
   "metadata": {},
   "source": [
    "**5. Desarrollar modelos preliminares**"
   ]
  },
  {
   "cell_type": "code",
   "execution_count": 15,
   "id": "21bdd16e",
   "metadata": {},
   "outputs": [
    {
     "data": {
      "text/plain": [
       "LinearRegression()"
      ]
     },
     "execution_count": 15,
     "metadata": {},
     "output_type": "execute_result"
    }
   ],
   "source": [
    "# División de los datos en train y test\n",
    "# ==============================================================================\n",
    "X = datos[['CALIFICACIÓN PROMEDIO']]\n",
    "Y = datos['SALARIO INICIAL']\n",
    "X_train, X_test, y_train, y_test = train_test_split(\n",
    "                                        X.values.reshape(-1,1),\n",
    "                                        Y.values.reshape(-1,1),\n",
    "                                        train_size   = 0.8,\n",
    "                                        random_state = 1234,\n",
    "                                        shuffle      = True\n",
    "                                    )\n",
    "\n",
    "# Creación del modelo (Entrenamiento)\n",
    "# ==============================================================================\n",
    "modelo = LinearRegression()\n",
    "modelo.fit(X = X_train.reshape(-1, 1), y = y_train)"
   ]
  },
  {
   "cell_type": "code",
   "execution_count": 16,
   "id": "6d27ac14",
   "metadata": {},
   "outputs": [
    {
     "name": "stdout",
     "output_type": "stream",
     "text": [
      "Intercept: [-7.21131985]\n",
      "Coeficiente: [('CALIFICACIÓN PROMEDIO', 8.31791907514451)]\n",
      "Coeficiente de determinación R^2: 0.752900429773425\n"
     ]
    }
   ],
   "source": [
    "# Información del modelo\n",
    "# ==============================================================================\n",
    "print(\"Intercept:\", modelo.intercept_)\n",
    "print(\"Coeficiente:\", list(zip(X.columns, modelo.coef_.flatten(), )))\n",
    "print(\"Coeficiente de determinación R^2:\", modelo.score(X_train, y_train))"
   ]
  },
  {
   "cell_type": "markdown",
   "id": "dbf5b8a6",
   "metadata": {},
   "source": [
    "Una vez entrenado el modelo, se evalúa la capacidad predictiva empleando el conjunto de test."
   ]
  },
  {
   "cell_type": "code",
   "execution_count": 19,
   "id": "4cd7abd9",
   "metadata": {},
   "outputs": [
    {
     "name": "stdout",
     "output_type": "stream",
     "text": [
      "\n",
      "El error (RMSE) de test es: 1.0458686806135336\n"
     ]
    }
   ],
   "source": [
    "# Error de test del modelo \n",
    "# ==============================================================================\n",
    "predicciones = modelo.predict(X = X_test)\n",
    "rmse = mean_squared_error(\n",
    "        y_true  = y_test,\n",
    "        y_pred  = predicciones,\n",
    "        squared = False\n",
    "       )\n",
    "print(\"\")\n",
    "print(f\"El error (RMSE) de test es: {rmse}\")"
   ]
  },
  {
   "cell_type": "code",
   "execution_count": null,
   "id": "4e4688f0",
   "metadata": {},
   "outputs": [],
   "source": []
  },
  {
   "cell_type": "code",
   "execution_count": null,
   "id": "1c908230",
   "metadata": {},
   "outputs": [],
   "source": []
  }
 ],
 "metadata": {
  "kernelspec": {
   "display_name": "Python 3",
   "language": "python",
   "name": "python3"
  },
  "language_info": {
   "codemirror_mode": {
    "name": "ipython",
    "version": 3
   },
   "file_extension": ".py",
   "mimetype": "text/x-python",
   "name": "python",
   "nbconvert_exporter": "python",
   "pygments_lexer": "ipython3",
   "version": "3.8.8"
  }
 },
 "nbformat": 4,
 "nbformat_minor": 5
}
